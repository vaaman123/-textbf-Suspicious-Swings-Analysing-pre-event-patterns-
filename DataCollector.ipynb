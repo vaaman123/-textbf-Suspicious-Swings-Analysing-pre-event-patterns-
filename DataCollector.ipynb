{
 "cells": [
  {
   "cell_type": "code",
   "execution_count": 2,
   "id": "6fd3e7f5-db25-4e54-8fcd-dcb197f1d1fe",
   "metadata": {},
   "outputs": [],
   "source": [
    "import yfinance as yf"
   ]
  },
  {
   "cell_type": "code",
   "execution_count": 6,
   "id": "23cd253b-f18e-4db4-a4ff-9b6be0f3bda2",
   "metadata": {},
   "outputs": [
    {
     "name": "stderr",
     "output_type": "stream",
     "text": [
      "[*********************100%***********************]  1 of 1 completed\n"
     ]
    }
   ],
   "source": [
    "df_itc = yf.download(\"ITC.NS\", period=\"10y\")\n",
    "df_itc.columns = df_itc.columns.droplevel(1)\n",
    "df_itc.reset_index(inplace=True)\n",
    "df_itc.to_excel(\"ITC_data.xlsx\")"
   ]
  },
  {
   "cell_type": "code",
   "execution_count": 3,
   "id": "e7fed8bc-5587-4685-9604-59d9976ebe5e",
   "metadata": {},
   "outputs": [
    {
     "name": "stderr",
     "output_type": "stream",
     "text": [
      "[*********************100%***********************]  1 of 1 completed\n"
     ]
    }
   ],
   "source": [
    "df_infosys = yf.download(\"INFY.NS\", period=\"10y\")\n",
    "df_infosys.columns = df_infosys.columns.droplevel(1)\n",
    "df_infosys.reset_index(inplace=True)\n",
    "df_infosys.to_excel(\"INFOSYS_data.xlsx\")"
   ]
  },
  {
   "cell_type": "code",
   "execution_count": 2,
   "id": "7af2e208-1ede-4695-8ca3-5cd3e50b3667",
   "metadata": {},
   "outputs": [
    {
     "name": "stderr",
     "output_type": "stream",
     "text": [
      "[*********************100%***********************]  1 of 1 completed\n"
     ]
    }
   ],
   "source": [
    "df_infosys = yf.download(\"CIPLA.NS\", period=\"10y\")\n",
    "df_infosys.columns = df_infosys.columns.droplevel(1)\n",
    "df_infosys.reset_index(inplace=True)\n",
    "df_infosys.to_excel(\"CIPLA_data.xlsx\")"
   ]
  },
  {
   "cell_type": "code",
   "execution_count": 4,
   "id": "39195f41-96f3-43df-95c0-99ec5134fce5",
   "metadata": {},
   "outputs": [
    {
     "name": "stderr",
     "output_type": "stream",
     "text": [
      "[*********************100%***********************]  1 of 1 completed\n"
     ]
    }
   ],
   "source": [
    "df_nifty = yf.download(tickers = '^NSEI', period=\"10y\")\n",
    "df_nifty.columns = df_nifty.columns.droplevel(1)\n",
    "df_nifty.reset_index(inplace=True)\n",
    "df_nifty.to_excel(\"NIFTY_data.xlsx\")\n"
   ]
  },
  {
   "cell_type": "code",
   "execution_count": 5,
   "id": "6711d3ae-3427-47dd-a726-7af026a41473",
   "metadata": {},
   "outputs": [
    {
     "name": "stderr",
     "output_type": "stream",
     "text": [
      "[*********************100%***********************]  1 of 1 completed\n"
     ]
    }
   ],
   "source": [
    "df_reliance = yf.download(\"RELIANCE.NS\", period=\"10y\")\n",
    "df_reliance.columns = df_reliance.columns.droplevel(1)\n",
    "df_reliance.reset_index(inplace=True)\n",
    "df_reliance.to_excel(\"RELIANCE_data.xlsx\")"
   ]
  },
  {
   "cell_type": "code",
   "execution_count": 8,
   "id": "cc8550c8-241f-4a4e-9ee5-d012c1308a2f",
   "metadata": {},
   "outputs": [
    {
     "name": "stderr",
     "output_type": "stream",
     "text": [
      "[*********************100%***********************]  1 of 1 completed\n"
     ]
    }
   ],
   "source": [
    "df_tataconsum = yf.download(\"TATACONSUM.NS\", period=\"4y\")\n",
    "df_tataconsum.columns = df_tataconsum.columns.droplevel(1)\n",
    "df_tataconsum.reset_index(inplace=True)\n",
    "df_tataconsum.to_excel(\"TATACONSUM_data.xlsx\")"
   ]
  },
  {
   "cell_type": "code",
   "execution_count": null,
   "id": "963bab82-4d68-446f-b83c-3e4f852728d7",
   "metadata": {},
   "outputs": [],
   "source": []
  }
 ],
 "metadata": {
  "kernelspec": {
   "display_name": "Python 3 (ipykernel)",
   "language": "python",
   "name": "python3"
  },
  "language_info": {
   "codemirror_mode": {
    "name": "ipython",
    "version": 3
   },
   "file_extension": ".py",
   "mimetype": "text/x-python",
   "name": "python",
   "nbconvert_exporter": "python",
   "pygments_lexer": "ipython3",
   "version": "3.12.4"
  }
 },
 "nbformat": 4,
 "nbformat_minor": 5
}
